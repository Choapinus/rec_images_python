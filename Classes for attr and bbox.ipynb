{
 "cells": [
  {
   "cell_type": "code",
   "execution_count": 2,
   "metadata": {},
   "outputs": [],
   "source": [
    "class Bbox(object):\n",
    "\t\n",
    "\t_var_names = None\n",
    "\t\n",
    "\tdef __init__(self, items, attr = None):\n",
    "\t\tif not Bbox._var_names:\n",
    "\t\t\tself.image_id = items[0]\n",
    "\t\t\tself.x_1 = int(items[1])\n",
    "\t\t\tself.y_1 = int(items[2])\n",
    "\t\t\tself.width = int(items[3])\n",
    "\t\t\tself.height = int(items[4])\n",
    "\t\t\tself._columns = None\n",
    "\t\t\tself.attr = attr if attr.image_id == items[0] else None\n",
    "\t\t\t\n",
    "\t\telif Bbox._var_names:\n",
    "\t\t\t# setattr(self, \"_vars\", Bbox._var_names)\n",
    "\t\t\tsetattr(self, Bbox._var_names[0], items[0])\n",
    "\t\t\tsetattr(self, Bbox._var_names[1], int(items[1]))\n",
    "\t\t\tsetattr(self, Bbox._var_names[2], int(items[2]))\n",
    "\t\t\tsetattr(self, Bbox._var_names[3], int(items[3]))\n",
    "\t\t\tsetattr(self, Bbox._var_names[4].replace('\\n', ''), int(items[4]))\n",
    "\t\t\tself.attr = attr if attr.image_id == items[0] else None\n",
    "\t\n",
    "\tdef set_vars(name_list):\n",
    "\t\tname_list[-1] = name_list[-1].replace('\\n', '')\n",
    "\t\tBbox._var_names = name_list\n",
    "\t\n",
    "\t@property\n",
    "\tdef vars(self):\n",
    "\t\treturn self._vars\n",
    "\n",
    "\t@property\n",
    "\tdef bbox_pt1(self):\n",
    "\t\treturn (self.x_1, self.y_1)\n",
    "\n",
    "\t@property\n",
    "\tdef bbox_pt2(self):\n",
    "\t\treturn (self.width, self.height)\n",
    "\t\n",
    "\tdef del_none(a_list):\n",
    "\t\ta_list = [i for i in a_list if len(i) > 0]\n",
    "\t\treturn a_list\n",
    "\t\n",
    "\tdef read_text(txt_file):\n",
    "\t\t_txt = open(txt_file, 'r')\n",
    "\t\tcontent = _txt.readlines()\n",
    "\t\t_txt.close()\n",
    "\t\tdel content[0] # always is a number\n",
    "\t\tcontent = list(map(lambda x: x.split(' '), content))\n",
    "\t\tcontent = [list(map(lambda y: y.replace('\\n', ''), x)) for x in content]\n",
    "\t\tcontent = list(map(Bbox.del_none, content))\n",
    "\t\treturn content\n",
    "\n",
    "class Attributes(object):\n",
    "\t_var_names = None\n",
    "\t\n",
    "\tdef __init__(self, items):\n",
    "\t\tassert Attributes._var_names, \"Var names must be given\"\n",
    "\t\t\n",
    "\t\t# setattr(self, \"_vars\", Attributes._var_names)\n",
    "\t\tsetattr(self, \"image_id\", items[0])\n",
    "\t\t\n",
    "\t\tfor i in range(len(Attributes._var_names)):\n",
    "\t\t\tsetattr(self, Attributes._var_names[i], int(items[i+1]))\n",
    "\t\n",
    "\tdef set_vars(_vars):\n",
    "\t\t_vars[-1] = _vars[-1].replace('\\n', '')\n",
    "\t\tAttributes._var_names = _vars\n",
    "\t\n",
    "\t@property\n",
    "\tdef vars(self):\n",
    "\t\treturn self._var_names\n",
    "\t\n",
    "\tdef del_none(a_list):\n",
    "\t\ta_list = [i for i in a_list if len(i) > 0]\n",
    "\t\treturn a_list\n",
    "\t\n",
    "\tdef read_text(txt_file):\n",
    "\t\t_txt = open(txt_file, 'r')\n",
    "\t\tcontent = _txt.readlines()\n",
    "\t\t_txt.close()\n",
    "\t\tdel content[0] # always is a number\n",
    "\t\tcontent = list(map(lambda x: x.split(' '), content))\n",
    "\t\tcontent = [list(map(lambda y: y.replace('\\n', ''), x)) for x in content]\n",
    "\t\tcontent = list(map(Attributes.del_none, content))\n",
    "\t\t\n",
    "\t\treturn content\n",
    "\t\t\n"
   ]
  },
  {
   "cell_type": "code",
   "execution_count": 3,
   "metadata": {},
   "outputs": [
    {
     "name": "stdout",
     "output_type": "stream",
     "text": [
      "Loading data...\n",
      "Done with data!\n",
      "Configuring data headers...\n",
      "Done with headers!\n",
      "Baking data...\n",
      "The cake is done!\n"
     ]
    }
   ],
   "source": [
    "import os\n",
    "\n",
    "__MAXVALUE__ = 202598\n",
    "_dir_celebA = './celebA'\n",
    "\n",
    "print(\"Loading data...\")\n",
    "bboxes_data = Bbox.read_text('./celebA/Anno/list_bbox_celeba.txt')\n",
    "attr_data = Attributes.read_text('./celebA/Anno/list_attr_celeba.txt')\n",
    "print(\"Done with data!\")\n",
    "\n",
    "print(\"Configuring data headers...\")\n",
    "Bbox.set_vars(bboxes_data[0])\n",
    "Attributes.set_vars(attr_data[0])\n",
    "print(\"Done with headers!\")\n",
    "\n",
    "del attr_data[0], bboxes_data[0]\n",
    "\n",
    "bboxes = []\n",
    "\n",
    "print(\"Baking data...\")\n",
    "for i in range(len(bboxes_data)):\n",
    "\tbboxes.append(Bbox(bboxes_data[i], Attributes(attr_data[i])))\n",
    "bboxes = tuple(bboxes)\n",
    "print(\"The cake is done!\")"
   ]
  },
  {
   "cell_type": "code",
   "execution_count": 4,
   "metadata": {},
   "outputs": [],
   "source": [
    "# NOTAS:\n",
    "# Las imagenes cargadas desde img_align_celeba estan recortadas con los bboxes y ajustadas a 218x178\n",
    "#\n",
    "# TODO:\n",
    "# rescatar 1000 imagenes masculinas\n",
    "# rescatar 1000 imagenes femeninas"
   ]
  },
  {
   "cell_type": "code",
   "execution_count": 5,
   "metadata": {},
   "outputs": [
    {
     "name": "stdout",
     "output_type": "stream",
     "text": [
      "all images length: 202599\n",
      "name_male: 84434 name_female: 118165\n",
      "first url male: 000003.jpg\n"
     ]
    }
   ],
   "source": [
    "im_male = [obj for obj in bboxes if obj.attr.Male == 1]\n",
    "im_female = [obj for obj in bboxes if obj.attr.Male == -1]\n",
    "\n",
    "name_male = [obj.image_id for obj in im_male]\n",
    "name_female = [obj.image_id for obj in im_female]\n",
    "\n",
    "true_male, true_female = name_male[:10000], name_female[:10000]\n",
    "\n",
    "print(\"all images length:\", len(im_male)+len(im_female))\n",
    "print(\"name_male:\", len(name_male), \"name_female:\", len(name_female))\n",
    "print(\"first url male:\", true_male[0])"
   ]
  },
  {
   "cell_type": "code",
   "execution_count": 4,
   "metadata": {},
   "outputs": [],
   "source": [
    "# ubuntu dirs\n",
    "male_dir = '/home/choppy/Desktop/CNN/male_female_cnn/images/male/'\n",
    "female_dir = '/home/choppy/Desktop/CNN/male_female_cnn/images/female/'\n",
    "\n",
    "\n",
    "if not os.path.isdir(male_dir):\n",
    "    os.makedirs(male_dir)\n",
    "if not os.path.isdir(female_dir):\n",
    "    os.makedirs(female_dir)"
   ]
  },
  {
   "cell_type": "code",
   "execution_count": 17,
   "metadata": {},
   "outputs": [
    {
     "name": "stdout",
     "output_type": "stream",
     "text": [
      "uncompressing...\n",
      "Done!\n"
     ]
    }
   ],
   "source": [
    "from zipfile import ZipFile\n",
    "import shutil\n",
    "\n",
    "zip_dir = os.path.join(_dir_celebA, 'img_align_celeba.zip')\n",
    "\n",
    "with ZipFile(zip_dir, 'r') as zzip:\n",
    "    print(\"uncompressing...\")\n",
    "    for member in zzip.namelist():\n",
    "        filename = os.path.basename(member)\n",
    "        # skip directories\n",
    "        if not filename:\n",
    "            continue\n",
    "        # copy files\n",
    "        source = zzip.open(member)\n",
    "        if filename in name_male:\n",
    "            target = open(os.path.join(male_dir, filename), \"wb\")\n",
    "        else:\n",
    "            target = open(os.path.join(female_dir, filename), \"wb\")\n",
    "        with source, target:\n",
    "            shutil.copyfileobj(source, target)\n",
    "    print(\"Done!\")\n",
    "    zzip.close()\n",
    "    "
   ]
  },
  {
   "cell_type": "code",
   "execution_count": null,
   "metadata": {},
   "outputs": [],
   "source": []
  }
 ],
 "metadata": {
  "kernelspec": {
   "display_name": "Python 2",
   "language": "python",
   "name": "python2"
  },
  "language_info": {
   "codemirror_mode": {
    "name": "ipython",
    "version": 2
   },
   "file_extension": ".py",
   "mimetype": "text/x-python",
   "name": "python",
   "nbconvert_exporter": "python",
   "pygments_lexer": "ipython2",
   "version": "2.7.13"
  }
 },
 "nbformat": 4,
 "nbformat_minor": 2
}
